{
 "cells": [
  {
   "cell_type": "code",
   "execution_count": 8,
   "id": "4ae42d4d",
   "metadata": {},
   "outputs": [],
   "source": [
    "import numpy as np\n",
    "import itertools\n",
    "\n",
    "import import_ipynb\n",
    "import def_sudoku"
   ]
  },
  {
   "cell_type": "code",
   "execution_count": 19,
   "id": "a398b763",
   "metadata": {},
   "outputs": [],
   "source": [
    "grille_test = np.array(\n",
    "    [\n",
    "        [1, 7, 9, 6, 0, 3, 5, 0, 4],\n",
    "        [5, 8, 6, 4, 0, 0, 1, 9, 0],\n",
    "        [0, 2, 4, 9, 0, 5, 0, 0, 0],\n",
    "        [0, 0, 0, 2, 0, 0, 9, 0, 0],\n",
    "        [0, 0, 0, 0, 7, 0, 0, 3, 0],\n",
    "        [8, 0, 0, 3, 0, 0, 0, 0, 6],\n",
    "        [0, 0, 0, 1, 3, 2, 0, 4, 0],\n",
    "        [0, 0, 1, 7, 6, 0, 0, 0, 8],\n",
    "        [7, 0, 0, 5, 9, 8, 0, 1, 2],\n",
    "    ]\n",
    ")\n",
    "\n",
    "grille_test_medium = np.array(\n",
    "    [\n",
    "        [0, 7, 0, 0, 8, 0, 0, 0, 0],\n",
    "        [0, 0, 6, 0, 2, 0, 1, 0, 3],\n",
    "        [0, 2, 0, 9, 0, 0, 8, 0, 0],\n",
    "        [4, 0, 7, 0, 5, 6, 9, 0, 0],\n",
    "        [0, 0, 0, 8, 7, 0, 0, 0, 0],\n",
    "        [0, 1, 0, 3, 0, 0, 2, 0, 6],\n",
    "        [0, 5, 0, 1, 0, 2, 0, 0, 9],\n",
    "        [2, 0, 1, 0, 6, 0, 3, 5, 0],\n",
    "        [7, 4, 0, 0, 0, 8, 0, 1, 0],\n",
    "    ]\n",
    ")\n",
    "\n",
    "grille_test_difficile = np.array(\n",
    "    [\n",
    "        [0, 4, 3, 0, 8, 0, 2, 5, 0],\n",
    "        [6, 0, 0, 0, 0, 0, 0, 0, 0],\n",
    "        [0, 0, 0, 0, 0, 1, 0, 9, 4],\n",
    "        [9, 0, 0, 0, 0, 4, 0, 7, 0],\n",
    "        [0, 0, 0, 6, 0, 8, 0, 0, 0],\n",
    "        [0, 1, 0, 2, 0, 0, 0, 0, 3],\n",
    "        [8, 2, 0, 5, 0, 0, 0, 0, 0],\n",
    "        [0, 0, 0, 0, 0, 0, 0, 0, 5],\n",
    "        [5, 3, 4, 8, 9, 0, 7, 1, 0],\n",
    "    ]\n",
    ")"
   ]
  },
  {
   "cell_type": "code",
   "execution_count": 9,
   "id": "ef74d5c4",
   "metadata": {},
   "outputs": [],
   "source": [
    "for _ in range(100):\n",
    "    def_sudoku.obvious_fill(grille_test)"
   ]
  },
  {
   "cell_type": "code",
   "execution_count": 10,
   "id": "2e3389f8",
   "metadata": {
    "scrolled": true
   },
   "outputs": [
    {
     "data": {
      "text/plain": [
       "array([[1, 7, 9, 6, 8, 3, 5, 2, 4],\n",
       "       [5, 8, 6, 4, 2, 7, 1, 9, 3],\n",
       "       [3, 2, 4, 9, 1, 5, 8, 6, 7],\n",
       "       [4, 3, 7, 2, 5, 6, 9, 8, 1],\n",
       "       [9, 6, 2, 8, 7, 1, 4, 3, 5],\n",
       "       [8, 1, 5, 3, 4, 9, 2, 7, 6],\n",
       "       [6, 5, 8, 1, 3, 2, 7, 4, 9],\n",
       "       [2, 9, 1, 7, 6, 4, 3, 5, 8],\n",
       "       [7, 4, 3, 5, 9, 8, 6, 1, 2]])"
      ]
     },
     "execution_count": 10,
     "metadata": {},
     "output_type": "execute_result"
    }
   ],
   "source": [
    "grille_test"
   ]
  },
  {
   "cell_type": "code",
   "execution_count": 20,
   "id": "1fcbbfc2",
   "metadata": {},
   "outputs": [],
   "source": [
    "for _ in range(100):\n",
    "    def_sudoku.obvious_fill(grille_test_medium)"
   ]
  },
  {
   "cell_type": "code",
   "execution_count": 21,
   "id": "c83ebb6a",
   "metadata": {},
   "outputs": [
    {
     "data": {
      "text/plain": [
       "array([[0, 7, 0, 0, 8, 0, 0, 0, 0],\n",
       "       [0, 0, 6, 0, 2, 0, 1, 0, 3],\n",
       "       [0, 2, 0, 9, 0, 0, 8, 0, 0],\n",
       "       [4, 0, 7, 2, 5, 6, 9, 0, 0],\n",
       "       [0, 0, 0, 8, 7, 0, 0, 0, 0],\n",
       "       [0, 1, 0, 3, 0, 0, 2, 0, 6],\n",
       "       [0, 5, 0, 1, 0, 2, 0, 0, 9],\n",
       "       [2, 0, 1, 0, 6, 0, 3, 5, 0],\n",
       "       [7, 4, 0, 5, 0, 8, 6, 1, 2]])"
      ]
     },
     "execution_count": 21,
     "metadata": {},
     "output_type": "execute_result"
    }
   ],
   "source": [
    "grille_test_medium"
   ]
  },
  {
   "cell_type": "code",
   "execution_count": 12,
   "id": "373a933f",
   "metadata": {},
   "outputs": [],
   "source": [
    "for _ in range(100):\n",
    "    def_sudoku.obvious_fill(grille_test_difficile)"
   ]
  },
  {
   "cell_type": "code",
   "execution_count": 13,
   "id": "fc6506fe",
   "metadata": {},
   "outputs": [
    {
     "data": {
      "text/plain": [
       "array([[0, 4, 3, 0, 8, 0, 2, 5, 0],\n",
       "       [6, 0, 0, 0, 0, 0, 0, 0, 0],\n",
       "       [0, 0, 0, 0, 0, 1, 0, 9, 4],\n",
       "       [9, 0, 0, 0, 0, 4, 0, 7, 0],\n",
       "       [0, 0, 0, 6, 0, 8, 0, 0, 0],\n",
       "       [0, 1, 0, 2, 0, 0, 0, 0, 3],\n",
       "       [8, 2, 0, 5, 0, 0, 0, 0, 0],\n",
       "       [0, 0, 0, 0, 0, 0, 0, 0, 5],\n",
       "       [5, 3, 4, 8, 9, 0, 7, 1, 0]])"
      ]
     },
     "execution_count": 13,
     "metadata": {},
     "output_type": "execute_result"
    }
   ],
   "source": [
    "grille_test_difficile"
   ]
  },
  {
   "cell_type": "code",
   "execution_count": null,
   "id": "bcc64e34",
   "metadata": {},
   "outputs": [],
   "source": []
  }
 ],
 "metadata": {
  "kernelspec": {
   "display_name": "Python 3 (ipykernel)",
   "language": "python",
   "name": "python3"
  },
  "language_info": {
   "codemirror_mode": {
    "name": "ipython",
    "version": 3
   },
   "file_extension": ".py",
   "mimetype": "text/x-python",
   "name": "python",
   "nbconvert_exporter": "python",
   "pygments_lexer": "ipython3",
   "version": "3.10.2"
  }
 },
 "nbformat": 4,
 "nbformat_minor": 5
}
