{
 "cells": [
  {
   "cell_type": "code",
   "execution_count": 1,
   "id": "d51efd42",
   "metadata": {},
   "outputs": [],
   "source": [
    "import numpy as np\n",
    "import itertools"
   ]
  },
  {
   "cell_type": "code",
   "execution_count": 46,
   "id": "a602d7ff",
   "metadata": {},
   "outputs": [],
   "source": [
    "grille_test = np.array(\n",
    "    [\n",
    "        [1, 7, 9, 6, 0, 3, 5, 0, 4],\n",
    "        [5, 8, 6, 4, 0, 0, 1, 9, 0],\n",
    "        [0, 2, 4, 9, 0, 5, 0, 0, 0],\n",
    "        [0, 0, 0, 2, 0, 0, 9, 0, 0],\n",
    "        [0, 0, 0, 0, 7, 0, 0, 3, 0],\n",
    "        [8, 0, 0, 3, 0, 0, 0, 0, 6],\n",
    "        [0, 0, 0, 1, 3, 2, 0, 4, 0],\n",
    "        [0, 0, 1, 7, 6, 0, 0, 0, 8],\n",
    "        [7, 0, 0, 5, 9, 8, 0, 1, 2],\n",
    "    ]\n",
    ")\n",
    "grille_test_difficile = np.array(\n",
    "    [\n",
    "        [0, 4, 3, 0, 8, 0, 2, 5, 0],\n",
    "        [6, 0, 0, 0, 0, 0, 0, 0, 0],\n",
    "        [0, 0, 0, 0, 0, 1, 0, 9, 4],\n",
    "        [9, 0, 0, 0, 0, 4, 0, 7, 0],\n",
    "        [0, 0, 0, 6, 0, 8, 0, 0, 0],\n",
    "        [0, 1, 0, 2, 0, 0, 0, 0, 3],\n",
    "        [8, 2, 0, 5, 0, 0, 0, 0, 0],\n",
    "        [0, 0, 0, 0, 0, 0, 0, 0, 5],\n",
    "        [5, 3, 4, 8, 9, 0, 7, 1, 0],\n",
    "    ]\n",
    ")"
   ]
  },
  {
   "cell_type": "code",
   "execution_count": 33,
   "id": "f841ce14",
   "metadata": {},
   "outputs": [],
   "source": [
    "def has_unique_values(ligne):\n",
    "    \"\"\"\n",
    "    prend un array d'une ligne en entree et determine s'il y a des doublons dans cette ligne\n",
    "    retourne true si il n'y a pas de doublons\n",
    "    return false si doublons trouvés\n",
    "    \"\"\"\n",
    "\n",
    "    # on enleve les nan car ils pourraient être considérés comme doublons\n",
    "    test_ligne = [i for i in ligne if i != 0]\n",
    "\n",
    "    # np.unique nous retourne la ligne sans doublon dans le tableau u, et le count de doublons dans le tableau c\n",
    "    # dup recupère les doublons\n",
    "    unique, count = np.unique(test_ligne, return_counts=True)\n",
    "    dup = unique[count > 1]\n",
    "\n",
    "    # si la taille de dup == 0, pas de doublons, no_dup == true\n",
    "    # sinon false\n",
    "    return dup.size == 0"
   ]
  },
  {
   "cell_type": "code",
   "execution_count": 34,
   "id": "3918324a",
   "metadata": {},
   "outputs": [],
   "source": [
    "def col_unique_value(column):\n",
    "    \"\"\"\n",
    "    transpose une colonne en ligne\n",
    "    puis appelle la fonction unique_value pour verifier s'il y a des valeur dupliquée ou non\n",
    "    \"\"\"\n",
    "\n",
    "    col_transposed = column.T\n",
    "    no_dup = has_unique_values(col_transposed)\n",
    "\n",
    "    return no_dup"
   ]
  },
  {
   "cell_type": "code",
   "execution_count": 35,
   "id": "d2f1f2f4",
   "metadata": {},
   "outputs": [],
   "source": [
    "def matrix_unique_value(subgrid):\n",
    "    \"\"\"\n",
    "    transpose une matrice 3x3 en ligne avec .flatten()\n",
    "    puis appelle la fonction unique_value pour verifier s'il y a des valeur dupliquée ou non\n",
    "    \"\"\"\n",
    "\n",
    "    flat_mat = subgrid.flatten()\n",
    "    no_dup = has_unique_values(flat_mat)\n",
    "\n",
    "    return no_dup"
   ]
  },
  {
   "cell_type": "code",
   "execution_count": 36,
   "id": "68edbda1",
   "metadata": {
    "scrolled": true
   },
   "outputs": [],
   "source": [
    "def check_missing_values(matrix):\n",
    "    \"\"\"\n",
    "    On determine les valeurs d'une matrice, ligne ou colonne qu'il nous manque pour compléter de 1 à 9\n",
    "    les valeurs manquantes sont ajoutées dans un numpy array\n",
    "    \"\"\"\n",
    "    missing_value = []\n",
    "\n",
    "    for value in range(1, 10):\n",
    "        if value not in matrix:\n",
    "            missing_value.append(value)\n",
    "\n",
    "    return missing_value"
   ]
  },
  {
   "cell_type": "code",
   "execution_count": 37,
   "id": "41fc036f",
   "metadata": {},
   "outputs": [],
   "source": [
    "def n_valid(grille_test, x, y, n):\n",
    "\n",
    "    \"\"\"\n",
    "    this function takes a grid, a num ligne, a num column and a number we want to add to the grid\n",
    "    returns True if n is valid at this place (ligne, column, subgrid)\n",
    "    est-ce que si je mets n à la place (x, y) dans ma grille_test, grille_test est valide?\n",
    "\n",
    "    On ne teste ici que les lignes colonnes et sous grille sur lequelles on ajoute n\n",
    "    \"\"\"\n",
    "\n",
    "    grille_test1 = grille_test.copy()\n",
    "    grille_test1[x][y] = n\n",
    "\n",
    "    # determine si ligne valide\n",
    "    if has_unique_values(grille_test1[x]):\n",
    "        is_ligne_valide = True\n",
    "    else:\n",
    "        is_ligne_valide = False\n",
    "\n",
    "    # determine si la colone est valide\n",
    "    if col_unique_value(grille_test1[:, y]):\n",
    "        is_column_valide = True\n",
    "    else:\n",
    "        is_column_valide = False\n",
    "\n",
    "    # determine si la sous-grille es valide\n",
    "    # point de départ de la ligne de la sous-grille dans laquelle on veut véririfer n\n",
    "    x0 = (x // 3) * 3\n",
    "    # point de départ de la colonne de la sous-grille dans laquelle on veut véririfer n\n",
    "    y0 = (y // 3) * 3\n",
    "\n",
    "    if matrix_unique_value(grille_test1[x0 : x0 + 3, y0 : y0 + 3]):\n",
    "        is_subgrid_valide = True\n",
    "    else:\n",
    "        is_subgrid_valide = False\n",
    "\n",
    "    return all([is_ligne_valide, is_column_valide, is_subgrid_valide])"
   ]
  },
  {
   "cell_type": "code",
   "execution_count": 42,
   "id": "b91e0e86",
   "metadata": {},
   "outputs": [],
   "source": [
    "def obvious_fill(grille_test):\n",
    "    \"\"\"\n",
    "    test if a number is obvious in a specifique place\n",
    "    which means only this number can fill the position and no one else\n",
    "    \"\"\"\n",
    "\n",
    "    for ligne, column in itertools.product(range(9), range(9)):\n",
    "        is_possible_value = []\n",
    "        for n in range(1, 10):\n",
    "            if n_valid(grille_test, ligne, column, n):\n",
    "                is_possible_value.append(n)\n",
    "\n",
    "        if len(is_possible_value) == 1:\n",
    "            grille_test[ligne][column] = is_possible_value[0]"
   ]
  },
  {
   "cell_type": "code",
   "execution_count": null,
   "id": "2502295b",
   "metadata": {},
   "outputs": [],
   "source": []
  }
 ],
 "metadata": {
  "kernelspec": {
   "display_name": "Python 3 (ipykernel)",
   "language": "python",
   "name": "python3"
  },
  "language_info": {
   "codemirror_mode": {
    "name": "ipython",
    "version": 3
   },
   "file_extension": ".py",
   "mimetype": "text/x-python",
   "name": "python",
   "nbconvert_exporter": "python",
   "pygments_lexer": "ipython3",
   "version": "3.10.2"
  }
 },
 "nbformat": 4,
 "nbformat_minor": 5
}
